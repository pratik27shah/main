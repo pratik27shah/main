{
  "nbformat": 4,
  "nbformat_minor": 0,
  "metadata": {
    "colab": {
      "provenance": [],
      "toc_visible": true,
      "authorship_tag": "ABX9TyPnhxcLtTw+wFACvOiGTU/x",
      "include_colab_link": true
    },
    "kernelspec": {
      "name": "python3",
      "display_name": "Python 3"
    },
    "language_info": {
      "name": "python"
    }
  },
  "cells": [
    {
      "cell_type": "markdown",
      "metadata": {
        "id": "view-in-github",
        "colab_type": "text"
      },
      "source": [
        "<a href=\"https://colab.research.google.com/github/pratik27shah/main/blob/master/Test.ipynb\" target=\"_parent\"><img src=\"https://colab.research.google.com/assets/colab-badge.svg\" alt=\"Open In Colab\"/></a>"
      ]
    },
    {
      "cell_type": "code",
      "execution_count": 1,
      "metadata": {
        "colab": {
          "base_uri": "https://localhost:8080/"
        },
        "id": "vBtGRMLnP9C3",
        "outputId": "ce20e7ef-df82-4e47-ad01-c37779665d1d"
      },
      "outputs": [
        {
          "output_type": "stream",
          "name": "stdout",
          "text": [
            "\u001b[?25l     \u001b[90m━━━━━━━━━━━━━━━━━━━━━━━━━━━━━━━━━━━━━━━━\u001b[0m \u001b[32m0.0/137.4 kB\u001b[0m \u001b[31m?\u001b[0m eta \u001b[36m-:--:--\u001b[0m\r\u001b[2K     \u001b[91m━━━━━━━━━━━\u001b[0m\u001b[91m╸\u001b[0m\u001b[90m━━━━━━━━━━━━━━━━━━━━━━━━━━━━\u001b[0m \u001b[32m41.0/137.4 kB\u001b[0m \u001b[31m948.8 kB/s\u001b[0m eta \u001b[36m0:00:01\u001b[0m\r\u001b[2K     \u001b[91m━━━━━━━━━━━━━━━━━━━━━━━━━━━━━━━━━━━\u001b[0m\u001b[91m╸\u001b[0m\u001b[90m━━━━\u001b[0m \u001b[32m122.9/137.4 kB\u001b[0m \u001b[31m1.6 MB/s\u001b[0m eta \u001b[36m0:00:01\u001b[0m\r\u001b[2K     \u001b[90m━━━━━━━━━━━━━━━━━━━━━━━━━━━━━━━━━━━━━━━━\u001b[0m \u001b[32m137.4/137.4 kB\u001b[0m \u001b[31m1.2 MB/s\u001b[0m eta \u001b[36m0:00:00\u001b[0m\n",
            "\u001b[?25h"
          ]
        }
      ],
      "source": [
        "!pip install -q -U google-generativeai"
      ]
    },
    {
      "cell_type": "code",
      "source": [
        "\n",
        "\n",
        "import pathlib\n",
        "import textwrap\n",
        "\n",
        "import google.generativeai as genai\n",
        "\n",
        "from IPython.display import display\n",
        "from IPython.display import Markdown\n",
        "\n",
        "\n",
        "def to_markdown(text):\n",
        "  text = text.replace('•', '  *')\n",
        "  return Markdown(textwrap.indent(text, '> ', predicate=lambda _: True))\n",
        "\n",
        "\n",
        "# Used to securely store your API key\n",
        "from google.colab import userdata\n",
        "\n"
      ],
      "metadata": {
        "id": "1Lq9a8yNWLsw"
      },
      "execution_count": 2,
      "outputs": []
    },
    {
      "cell_type": "code",
      "source": [
        "# Or use `os.getenv('GOOGLE_API_KEY')` to fetch an environment variable.\n",
        "GOOGLE_API_KEY=userdata.get('gemini')\n",
        "\n",
        "genai.configure(api_key=GOOGLE_API_KEY)"
      ],
      "metadata": {
        "id": "LqZtVdKlWUem"
      },
      "execution_count": 3,
      "outputs": []
    },
    {
      "cell_type": "code",
      "source": [
        "model = genai.GenerativeModel('gemini-pro')\n",
        "chat=model.start_chat(history=[])\n",
        "chat"
      ],
      "metadata": {
        "colab": {
          "base_uri": "https://localhost:8080/"
        },
        "id": "dCLc7dUIWdi4",
        "outputId": "db0f7a77-7876-4da3-e029-af75c0422237"
      },
      "execution_count": 4,
      "outputs": [
        {
          "output_type": "execute_result",
          "data": {
            "text/plain": [
              "ChatSession(\n",
              "    model=genai.GenerativeModel(\n",
              "        model_name='models/gemini-pro',\n",
              "        generation_config={},\n",
              "        safety_settings={},\n",
              "        tools=None,\n",
              "    ),\n",
              "    history=[]\n",
              ")"
            ]
          },
          "metadata": {},
          "execution_count": 4
        }
      ]
    },
    {
      "cell_type": "code",
      "source": [
        "response = chat.send_message(\"how to eat food\")\n",
        "to_markdown(response.text)"
      ],
      "metadata": {
        "colab": {
          "base_uri": "https://localhost:8080/",
          "height": 709
        },
        "id": "DWnnz0xlWmAC",
        "outputId": "7f835977-c669-4b10-e2fa-49a8cf9acfbc"
      },
      "execution_count": 5,
      "outputs": [
        {
          "output_type": "execute_result",
          "data": {
            "text/plain": [
              "<IPython.core.display.Markdown object>"
            ],
            "text/markdown": "> **Step-by-Step Guide on How to Eat Food:**\n> \n> **1. Prepare the Food:**\n> \n> * Wash fruits and vegetables thoroughly before eating.\n> * Cook meat and poultry to a safe internal temperature.\n> * Cut food into manageable pieces.\n> \n> **2. Position Yourself:**\n> \n> * Sit up straight or semi-reclined in a comfortable position.\n> * Rest your elbows on the table or use a lap tray for support.\n> \n> **3. Use Proper Utensils:**\n> \n> * Use a fork, spoon, or knife, depending on the food you are eating.\n> * Hold the fork in your left hand for stabbing and the knife in your right hand for cutting.\n> * Use a spoon for soups, cereals, and soft desserts.\n> \n> **4. Take Small Bites:**\n> \n> * Avoid stuffing your mouth with large pieces of food.\n> * Take small, manageable bites that you can chew and swallow comfortably.\n> \n> **5. Chew Thoroughly:**\n> \n> * Use your teeth to grind and break down the food into smaller pieces.\n> * Chewing thoroughly aids digestion and helps you absorb nutrients better.\n> \n> **6. Swallow Safely:**\n> \n> * Once the food is chewed into a soft paste, swallow it gently.\n> * Do not talk or laugh while swallowing to avoid choking.\n> \n> **7. Drink Fluids:**\n> \n> * Drink water or other beverages while eating to help with digestion.\n> * Fluids also help to prevent dehydration.\n> \n> **8. Clean Your Hands:**\n> \n> * Wash your hands before and after eating to prevent the spread of germs.\n> \n> **Additional Tips:**\n> \n> * Eat at regular intervals throughout the day to maintain stable blood sugar levels.\n> * Listen to your body's hunger and fullness cues.\n> * Eat in a relaxed and enjoyable environment.\n> * Avoid distractions such as watching TV or working while eating.\n> * Be mindful of your food intake and make healthy choices."
          },
          "metadata": {},
          "execution_count": 5
        }
      ]
    }
  ]
}